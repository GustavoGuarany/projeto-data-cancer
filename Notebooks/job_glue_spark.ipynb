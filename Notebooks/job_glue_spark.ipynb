{
  "nbformat": 4,
  "nbformat_minor": 0,
  "metadata": {
    "colab": {
      "provenance": []
    },
    "kernelspec": {
      "name": "python3",
      "display_name": "Python 3"
    },
    "language_info": {
      "name": "python"
    }
  },
  "cells": [
    {
      "cell_type": "code",
      "execution_count": 28,
      "metadata": {
        "colab": {
          "base_uri": "https://localhost:8080/"
        },
        "id": "CqCjnxuU3-gi",
        "outputId": "baa8d975-bea4-494e-ca23-5de3d52b2382"
      },
      "outputs": [
        {
          "output_type": "stream",
          "name": "stdout",
          "text": [
            "Looking in indexes: https://pypi.org/simple, https://us-python.pkg.dev/colab-wheels/public/simple/\n",
            "Requirement already satisfied: pyspark in /usr/local/lib/python3.10/dist-packages (3.4.0)\n",
            "Requirement already satisfied: py4j==0.10.9.7 in /usr/local/lib/python3.10/dist-packages (from pyspark) (0.10.9.7)\n"
          ]
        }
      ],
      "source": [
        "pip install pyspark"
      ]
    },
    {
      "cell_type": "code",
      "source": [
        "from os.path import abspath\n",
        "import datetime\n",
        "from pyspark.sql.types import *\n",
        "from pyspark.sql import SparkSession\n",
        "from pyspark.sql.functions import *"
      ],
      "metadata": {
        "id": "hP005xEL4KKS"
      },
      "execution_count": 29,
      "outputs": []
    },
    {
      "cell_type": "code",
      "source": [
        "# setup da aplicação Spark\n",
        "spark = SparkSession \\\n",
        "    .builder \\\n",
        "    .appName(\"job-glue-spark\") \\\n",
        "    .getOrCreate()"
      ],
      "metadata": {
        "id": "DYjwPPUY4OiU"
      },
      "execution_count": 30,
      "outputs": []
    },
    {
      "cell_type": "code",
      "source": [
        "# definindo o método de logging da aplicação use INFO somente para DEV [INFO,ERROR]\n",
        "spark.sparkContext.setLogLevel(\"ERROR\")"
      ],
      "metadata": {
        "id": "b8zIIDOj4PFN"
      },
      "execution_count": 31,
      "outputs": []
    },
    {
      "cell_type": "code",
      "source": [
        "df = spark.read.format(\"csv\")\\\n",
        "    .option(\"header\", \"True\")\\\n",
        "    .option(\"inferSchema\",\"True\")\\\n",
        "    .option(\"encoding\", \"ISO-8859-1\")\\\n",
        "    .csv(\"/content/drive/MyDrive/Dados/PROJETO-DATA-CANCER/landing/*.csv\")"
      ],
      "metadata": {
        "id": "cyV6bcOW4Q3i"
      },
      "execution_count": 32,
      "outputs": []
    },
    {
      "cell_type": "code",
      "source": [
        "\n",
        "# imprime os dados lidos da raw\n",
        "print (\"\\nImprime os dados lidos da landing:\")\n",
        "print (df.show())"
      ],
      "metadata": {
        "id": "P9q4GVVq4n5D",
        "colab": {
          "base_uri": "https://localhost:8080/"
        },
        "outputId": "5dbdd9a8-fe82-4a48-9954-f7ab227b41ed"
      },
      "execution_count": 33,
      "outputs": [
        {
          "output_type": "stream",
          "name": "stdout",
          "text": [
            "\n",
            "Imprime os dados lidos da landing:\n",
            "+--------+-----------------+---------+-------------+---+----------+-----------+----------------+----------+-------------------+-----------+---------------+--------------------+-----------------+------------+-------------------------+---------------+----------------------+------------------+----------------------+------------+-------------------------+------------------+-------------------------------+---------------------------+----------------------+----------------+---------+----------+---------+---+------------+-------------+-------------+--------------------+------------------+------------------+----+\n",
            "|cod_paci|        RCBP_Name|   Gender|Date_of_Birth|Age|Raca_Color|Nationality|Naturality_State|Naturality|Degree_of_Education|State_Civil|Code_Profession|     Name_Occupation|   Status_Address|City_Address|Description_of_Topography|Topography_Code|Morphology_Description|Code_of_Morphology|Description_of_Disease|Illness_Code|Child_Illness_Description|Child_Illness_Code|Youth_Adult_Illness_Description|Code_of_Disease_Adult_Young|Indicator_of_Rare_Case|Diagnostic_means|Extension|Laterality|Statement|TNM|Status_Vital|Type_of_Death|Date_of_Death|Date_of_Last_Contact|Date_of_Diagnostic|Distant_metastasis|year|\n",
            "+--------+-----------------+---------+-------------+---+----------+-----------+----------------+----------+-------------------+-----------+---------------+--------------------+-----------------+------------+-------------------------+---------------+----------------------+------------------+----------------------+------------+-------------------------+------------------+-------------------------------+---------------------------+----------------------+----------------+---------+----------+---------+---+------------+-------------+-------------+--------------------+------------------+------------------+----+\n",
            "|  514130|RCBP PORTO ALEGRE|MASCULINO|   1932-01-28| 73|    BRANCO|         NA|              NA|        NA|                 NA|         NA|              0|      SEM INFORMAÇÃO|RIO GRANDE DO SUL|PORTO ALEGRE|                RETO, SOE|           C209|     NEOPLASIA MALIGNA|             80003|                  RETO|         C20|                       NA|                NA|                             NA|                         NA|                 false|             SDO|       NA|        NA|       NA| NA|          NA|       CÂNCER|   2005-10-28|                  NA|        2005-10-28|                NA|2005|\n",
            "|  514129|RCBP PORTO ALEGRE| FEMININO|   1913-07-27| 92|    BRANCO|         NA|              NA|        NA|                 NA|         NA|              0|      SEM INFORMAÇÃO|RIO GRANDE DO SUL|PORTO ALEGRE|     LOCALIZACAO PRIMA...|           C809|     NEOPLASIA MALIGNA|             80003|  LOCALIZACAO PRIMA...|         C80|                       NA|                NA|                             NA|                         NA|                 false|             SDO|       NA|        NA|       NA| NA|          NA|       CÂNCER|   2005-11-27|                  NA|        2005-11-27|                NA|2005|\n",
            "|  514128|RCBP PORTO ALEGRE|MASCULINO|   1946-05-06| 59|    BRANCO|         NA|              NA|        NA|                 NA|         NA|            413|ESCRITURÁRIOS CON...|RIO GRANDE DO SUL|PORTO ALEGRE|                 RIM, SOE|           C649|     NEOPLASIA MALIGNA|             80003|                   RIM|         C64|                       NA|                NA|                             NA|                         NA|                 false|             SDO|       NA|        NA|       NA| NA|          NA|       CÂNCER|   2005-05-31|                  NA|        2005-05-31|                NA|2005|\n",
            "|  514126|RCBP PORTO ALEGRE| FEMININO|   1954-02-09| 51|    BRANCO|         NA|              NA|        NA|                 NA|         NA|            413|ESCRITURÁRIOS CON...|RIO GRANDE DO SUL|PORTO ALEGRE|            ENCEFALO, SOE|           C719|     GLIOBLASTOMA, SOE|             94403|         ENCEFALO, SOE|        C719|                       NA|                NA|                             NA|                         NA|                 false|             SDO|       NA|        NA|       NA| NA|          NA|       CÂNCER|   2005-05-22|                  NA|        2005-05-22|                NA|2005|\n",
            "|  514125|RCBP PORTO ALEGRE|MASCULINO|   1938-11-22| 66|    BRANCO|         NA|              NA|        NA|                 NA|         NA|            524|VENDEDORES A DOMI...|RIO GRANDE DO SUL|PORTO ALEGRE|               COLON, SOE|           C189|        CARCINOMA, SOE|             80103|            COLON, SOE|        C189|                       NA|                NA|                             NA|                         NA|                 false|             SDO|       NA|        NA|       NA| NA|          NA|       CÂNCER|   2005-01-17|                  NA|        2005-01-17|                NA|2005|\n",
            "|  514124|RCBP PORTO ALEGRE|MASCULINO|   1956-02-09| 49|     PRETA|         NA|              NA|        NA|                 NA|         NA|            782|CONDUTORES DE VEÍ...|RIO GRANDE DO SUL|PORTO ALEGRE|             SEIO MAXILAR|           C310|     NEOPLASIA MALIGNA|             80003|          SEIO MAXILAR|        C310|                       NA|                NA|                             NA|                         NA|                 false|             SDO|       NA|        NA|       NA| NA|          NA|       CÂNCER|   2005-12-19|                  NA|        2005-12-19|                NA|2005|\n",
            "|  514123|RCBP PORTO ALEGRE|MASCULINO|   1963-12-01| 41|        NA|         NA|              NA|        NA|                 NA|         NA|            521|VENDEDORES E DEMO...|RIO GRANDE DO SUL|PORTO ALEGRE|     LESAO SOBREPOSTA ...|           C168|     NEOPLASIA MALIGNA|             80003|  LESAO INVASIVA DO...|        C168|                       NA|                NA|                             NA|                         NA|                 false|             SDO|       NA|        NA|       NA| NA|          NA|       CÂNCER|   2005-10-21|                  NA|        2005-10-21|                NA|2005|\n",
            "|  514122|RCBP PORTO ALEGRE| FEMININO|   1923-01-19| 82|    BRANCO|         NA|              NA|        NA|                 NA|         NA|              0|      SEM INFORMAÇÃO|RIO GRANDE DO SUL|PORTO ALEGRE|                 RIM, SOE|           C649|     NEOPLASIA MALIGNA|             80003|                   RIM|         C64|                       NA|                NA|                             NA|                         NA|                 false|             SDO|       NA|        NA|       NA| NA|          NA|       CÂNCER|   2005-01-23|                  NA|        2005-01-23|                NA|2005|\n",
            "|  514121|RCBP PORTO ALEGRE| FEMININO|   1943-04-12| 62|    BRANCO|         NA|              NA|        NA|                 NA|         NA|              0|      SEM INFORMAÇÃO|RIO GRANDE DO SUL|PORTO ALEGRE|                 RIM, SOE|           C649|     NEOPLASIA MALIGNA|             80003|                   RIM|         C64|                       NA|                NA|                             NA|                         NA|                 false|             SDO|       NA|        NA|       NA| NA|          NA|       CÂNCER|   2005-05-08|                  NA|        2005-05-08|                NA|2005|\n",
            "|  514120|RCBP PORTO ALEGRE|MASCULINO|   1927-12-02| 78|    BRANCO|         NA|              NA|        NA|                 NA|         NA|            241|ADVOGADOS, PROCUR...|RIO GRANDE DO SUL|PORTO ALEGRE|               COLON, SOE|           C189|     NEOPLASIA MALIGNA|             80003|            COLON, SOE|        C189|                       NA|                NA|                             NA|                         NA|                 false|             SDO|       NA|        NA|       NA| NA|          NA|       CÂNCER|   2005-12-16|                  NA|        2005-12-16|                NA|2005|\n",
            "|  514119|RCBP PORTO ALEGRE| FEMININO|   1923-12-27| 81|    BRANCO|         NA|              NA|        NA|                 NA|         NA|              0|      SEM INFORMAÇÃO|RIO GRANDE DO SUL|PORTO ALEGRE|              FIGADO, SOE|           C220|  CARCINOMA HEPATOC...|             81703|  CARCINOMA DE CELU...|        C220|                       NA|                NA|                             NA|                         NA|                 false|             SDO|       NA|        NA|       NA| NA|          NA|       CÂNCER|   2005-09-01|                  NA|        2005-09-01|                NA|2005|\n",
            "|  514118|RCBP PORTO ALEGRE|MASCULINO|   1947-05-25| 58|    BRANCO|         NA|              NA|        NA|                 NA|         NA|              0|      SEM INFORMAÇÃO|RIO GRANDE DO SUL|PORTO ALEGRE|     LOCALIZACAO PRIMA...|           C809|        CARCINOMA, SOE|             80103|  LOCALIZACAO PRIMA...|         C80|                       NA|                NA|                             NA|                         NA|                 false|             SDO|       NA|        NA|       NA| NA|          NA|       CÂNCER|   2005-09-05|                  NA|        2005-09-05|                NA|2005|\n",
            "|  514117|RCBP PORTO ALEGRE|MASCULINO|   1940-11-02| 65|    BRANCO|         NA|              NA|        NA|                 NA|         NA|            141|GERENTES DE PRODU...|RIO GRANDE DO SUL|PORTO ALEGRE|            ESTOMAGO, SOE|           C169|     NEOPLASIA MALIGNA|             80003|         ESTOMAGO, SOE|        C169|                       NA|                NA|                             NA|                         NA|                 false|             SDO|       NA|        NA|       NA| NA|          NA|   NÃO CÂNCER|   2005-12-18|                  NA|        2005-12-18|                NA|2005|\n",
            "|  514116|RCBP PORTO ALEGRE|MASCULINO|   1931-02-09| 74|     PARDA|         NA|              NA|        NA|                 NA|         NA|            768|TRABALHADORES ART...|RIO GRANDE DO SUL|PORTO ALEGRE|     VESICULA BILIAR, SOE|           C239|     NEOPLASIA MALIGNA|             80003|       VESICULA BILIAR|         C23|                       NA|                NA|                             NA|                         NA|                 false|             SDO|       NA|        NA|       NA| NA|          NA|   NÃO CÂNCER|   2005-10-18|                  NA|        2005-10-18|                NA|2005|\n",
            "|  514115|RCBP PORTO ALEGRE| FEMININO|   1945-06-21| 59|     PRETA|         NA|              NA|        NA|                 NA|         NA|              0|      SEM INFORMAÇÃO|RIO GRANDE DO SUL|PORTO ALEGRE|              OVARIO, SOE|           C569|        CARCINOMA, SOE|             80103|                OVARIO|         C56|                       NA|                NA|                             NA|                         NA|                 false|             SDO|       NA|        NA|       NA| NA|          NA|       CÂNCER|   2005-02-22|                  NA|        2005-02-22|                NA|2005|\n",
            "|  514113|RCBP PORTO ALEGRE| FEMININO|   1947-11-20| 57|        NA|         NA|              NA|        NA|                 NA|         NA|              0|      SEM INFORMAÇÃO|RIO GRANDE DO SUL|PORTO ALEGRE|     LOCALIZACAO PRIMA...|           C809|   ADENOCARCINOMA, SOE|             81403|  LOCALIZACAO PRIMA...|         C80|                       NA|                NA|                             NA|                         NA|                 false|             SDO|       NA|        NA|       NA| NA|          NA|       CÂNCER|   2005-03-05|                  NA|        2005-03-05|                NA|2005|\n",
            "|  514112|RCBP PORTO ALEGRE| FEMININO|   1946-06-23| 59|    BRANCO|         NA|              NA|        NA|                 NA|         NA|            318|DESENHISTAS TÉCNI...|RIO GRANDE DO SUL|PORTO ALEGRE|     LOCALIZACAO PRIMA...|           C809|     NEOPLASIA MALIGNA|             80003|  LOCALIZACAO PRIMA...|         C80|                       NA|                NA|                             NA|                         NA|                 false|             SDO|       NA|        NA|       NA| NA|          NA|       CÂNCER|   2005-09-11|                  NA|        2005-09-11|                NA|2005|\n",
            "|  514111|RCBP PORTO ALEGRE| FEMININO|   1928-04-08| 77|    BRANCO|         NA|              NA|        NA|                 NA|         NA|            225|PROFISSIONAIS DA ...|RIO GRANDE DO SUL|PORTO ALEGRE|              PULMAO, SOE|           C349|     NEOPLASIA MALIGNA|             80003|  BRONQUIOS OU PULM...|        C349|                       NA|                NA|                             NA|                         NA|                 false|             SDO|       NA|        NA|       NA| NA|          NA|       CÂNCER|   2005-07-11|                  NA|        2005-07-11|                NA|2005|\n",
            "|  514110|RCBP PORTO ALEGRE| FEMININO|   1921-12-17| 83|    BRANCO|         NA|              NA|        NA|                 NA|         NA|              0|      SEM INFORMAÇÃO|RIO GRANDE DO SUL|PORTO ALEGRE|            ENCEFALO, SOE|           C719|     NEOPLASIA MALIGNA|             80003|         ENCEFALO, SOE|        C719|                       NA|                NA|                             NA|                         NA|                 false|             SDO|       NA|        NA|       NA| NA|          NA|       CÂNCER|   2005-11-07|                  NA|        2005-11-07|                NA|2005|\n",
            "|  514109|RCBP PORTO ALEGRE|MASCULINO|   1948-12-29| 56|    BRANCO|         NA|              NA|        NA|                 NA|         NA|            524|VENDEDORES A DOMI...|RIO GRANDE DO SUL|PORTO ALEGRE|           TESTICULO, SOE|           C629|     NEOPLASIA MALIGNA|             80003|        TESTICULO, SOE|        C629|                       NA|                NA|                             NA|                         NA|                 false|             SDO|       NA|        NA|       NA| NA|          NA|       CÂNCER|   2005-01-19|                  NA|        2005-01-19|                NA|2005|\n",
            "+--------+-----------------+---------+-------------+---+----------+-----------+----------------+----------+-------------------+-----------+---------------+--------------------+-----------------+------------+-------------------------+---------------+----------------------+------------------+----------------------+------------+-------------------------+------------------+-------------------------------+---------------------------+----------------------+----------------+---------+----------+---------+---+------------+-------------+-------------+--------------------+------------------+------------------+----+\n",
            "only showing top 20 rows\n",
            "\n",
            "None\n"
          ]
        }
      ]
    },
    {
      "cell_type": "code",
      "source": [
        "# imprime o schema do dataframe\n",
        "print (\"\\nImprime o schema do dataframe lido da raw:\")\n",
        "print (df.printSchema())"
      ],
      "metadata": {
        "id": "SZcU6ecU4pKu",
        "colab": {
          "base_uri": "https://localhost:8080/"
        },
        "outputId": "0b627dfd-1b45-46fc-e082-af3e68fdf5c3"
      },
      "execution_count": 34,
      "outputs": [
        {
          "output_type": "stream",
          "name": "stdout",
          "text": [
            "\n",
            "Imprime o schema do dataframe lido da raw:\n",
            "root\n",
            " |-- cod_paci: string (nullable = true)\n",
            " |-- RCBP_Name: string (nullable = true)\n",
            " |-- Gender: string (nullable = true)\n",
            " |-- Date_of_Birth: string (nullable = true)\n",
            " |-- Age: string (nullable = true)\n",
            " |-- Raca_Color: string (nullable = true)\n",
            " |-- Nationality: string (nullable = true)\n",
            " |-- Naturality_State: string (nullable = true)\n",
            " |-- Naturality: string (nullable = true)\n",
            " |-- Degree_of_Education: string (nullable = true)\n",
            " |-- State_Civil: string (nullable = true)\n",
            " |-- Code_Profession: string (nullable = true)\n",
            " |-- Name_Occupation: string (nullable = true)\n",
            " |-- Status_Address: string (nullable = true)\n",
            " |-- City_Address: string (nullable = true)\n",
            " |-- Description_of_Topography: string (nullable = true)\n",
            " |-- Topography_Code: string (nullable = true)\n",
            " |-- Morphology_Description: string (nullable = true)\n",
            " |-- Code_of_Morphology: integer (nullable = true)\n",
            " |-- Description_of_Disease: string (nullable = true)\n",
            " |-- Illness_Code: string (nullable = true)\n",
            " |-- Child_Illness_Description: string (nullable = true)\n",
            " |-- Child_Illness_Code: string (nullable = true)\n",
            " |-- Youth_Adult_Illness_Description: string (nullable = true)\n",
            " |-- Code_of_Disease_Adult_Young: string (nullable = true)\n",
            " |-- Indicator_of_Rare_Case: string (nullable = true)\n",
            " |-- Diagnostic_means: string (nullable = true)\n",
            " |-- Extension: string (nullable = true)\n",
            " |-- Laterality: string (nullable = true)\n",
            " |-- Statement: string (nullable = true)\n",
            " |-- TNM: string (nullable = true)\n",
            " |-- Status_Vital: string (nullable = true)\n",
            " |-- Type_of_Death: string (nullable = true)\n",
            " |-- Date_of_Death: string (nullable = true)\n",
            " |-- Date_of_Last_Contact: string (nullable = true)\n",
            " |-- Date_of_Diagnostic: string (nullable = true)\n",
            " |-- Distant_metastasis: string (nullable = true)\n",
            " |-- year: string (nullable = true)\n",
            "\n",
            "None\n"
          ]
        }
      ]
    },
    {
      "cell_type": "code",
      "source": [
        "print (\"\\nEscrevendo os dados lidos da raw para parquet na processing zone...\")\n",
        "df.write.format(\"parquet\")\\\n",
        "        .mode(\"overwrite\")\\\n",
        "        .save(\"/content/drive/MyDrive/Dados/PROJETO-DATA-CANCER/processing\")"
      ],
      "metadata": {
        "colab": {
          "base_uri": "https://localhost:8080/"
        },
        "id": "reAGO_034rH-",
        "outputId": "63d9c1b6-1f78-4ce7-eb07-ac0ffeeb2626"
      },
      "execution_count": 35,
      "outputs": [
        {
          "output_type": "stream",
          "name": "stdout",
          "text": [
            "\n",
            "Escrevendo os dados lidos da raw para parquet na processing zone...\n"
          ]
        }
      ]
    },
    {
      "cell_type": "code",
      "source": [
        "# lendo arquivos parquet\n",
        "df_parquet = spark.read.format(\"parquet\")\\\n",
        " .load(\"/content/drive/MyDrive/Dados/PROJETO-DATA-CANCER/processing\")\n"
      ],
      "metadata": {
        "id": "Knailo3x42Ku"
      },
      "execution_count": 36,
      "outputs": []
    },
    {
      "cell_type": "code",
      "source": [
        "# imprime os dados lidos em parquet\n",
        "print (\"\\nImprime os dados lidos em parquet da processing zone\")\n",
        "print (df_parquet.show())"
      ],
      "metadata": {
        "id": "GWjd6iUb46zO",
        "colab": {
          "base_uri": "https://localhost:8080/"
        },
        "outputId": "ec25ef95-1f71-4a7b-f10e-1271e37a5738"
      },
      "execution_count": 37,
      "outputs": [
        {
          "output_type": "stream",
          "name": "stdout",
          "text": [
            "\n",
            "Imprime os dados lidos em parquet da processing zone\n",
            "+--------+------------+---------+-------------+---+----------+-----------+----------------+--------------+-------------------+--------------------+---------------+--------------------+--------------+------------+-------------------------+---------------+----------------------+------------------+----------------------+------------+-------------------------+------------------+-------------------------------+---------------------------+----------------------+--------------------+----------+----------+---------+---+------------+-------------+-------------+--------------------+------------------+------------------+----+\n",
            "|cod_paci|   RCBP_Name|   Gender|Date_of_Birth|Age|Raca_Color|Nationality|Naturality_State|    Naturality|Degree_of_Education|         State_Civil|Code_Profession|     Name_Occupation|Status_Address|City_Address|Description_of_Topography|Topography_Code|Morphology_Description|Code_of_Morphology|Description_of_Disease|Illness_Code|Child_Illness_Description|Child_Illness_Code|Youth_Adult_Illness_Description|Code_of_Disease_Adult_Young|Indicator_of_Rare_Case|    Diagnostic_means| Extension|Laterality|Statement|TNM|Status_Vital|Type_of_Death|Date_of_Death|Date_of_Last_Contact|Date_of_Diagnostic|Distant_metastasis|year|\n",
            "+--------+------------+---------+-------------+---+----------+-----------+----------------+--------------+-------------------+--------------------+---------------+--------------------+--------------+------------+-------------------------+---------------+----------------------+------------------+----------------------+------------+-------------------------+------------------+-------------------------------+---------------------------+----------------------+--------------------+----------+----------+---------+---+------------+-------------+-------------+--------------------+------------------+------------------+----+\n",
            "|  360918|RCBP ARACAJU| FEMININO|   1932-07-21| 69|    BRANCO|     BRASIL|         SERGIPE|PORTO DA FOLHA|                 NA|              CASADO|              0|      SEM INFORMAÇÃO|       SERGIPE|     ARACAJU|       COLO DO UTERO, SOE|           C539|  CARCINOMA DE CELU...|             80763|    COLO DO UTERO, SOE|        C539|                       NA|                NA|                             NA|                         NA|                 false|HISTOLOGIA DO TUM...|        NA|        NA|       NA| NA|          NA|           NA|           NA|                  NA|        2002-06-28|                NA|2002|\n",
            "|  360871|RCBP ARACAJU| FEMININO|   1950-09-27| 51|    BRANCO|     BRASIL|         ALAGOAS|        MACEIÓ|                 NA|              CASADO|            515|TRABALHADORES DOS...|       SERGIPE|     ARACAJU|     PELE DE OUTRAS PA...|           C443|  CARCINOMA BASO CE...|             80923|  PELE DE OUTRAS PA...|        C443|                       NA|                NA|                             NA|                         NA|                 false|HISTOLOGIA DO TUM...|LOCALIZADO|        NA|       NA| NA|          NA|           NA|           NA|                  NA|        2002-03-21|                NA|2002|\n",
            "|  360901|RCBP ARACAJU| FEMININO|   1963-03-01| 39|    BRANCO|     BRASIL|           CEARÁ|            NA|  SUPERIOR COMPLETO|              CASADO|            239|OUTROS PROFISSION...|       SERGIPE|     ARACAJU|     PELE DE OUTRAS PA...|           C443|  CARCINOMA BASO CE...|             80903|  PELE DE OUTRAS PA...|        C443|                       NA|                NA|                             NA|                         NA|                 false|HISTOLOGIA DO TUM...|LOCALIZADO|        NA|       NA| NA|          NA|       CÂNCER|   2015-10-03|                  NA|        2002-12-11|                NA|2002|\n",
            "|  360922|RCBP ARACAJU| FEMININO|   1914-10-21| 87|    BRANCO|         NA|              NA|            NA|                 NA|                  NA|              0|      SEM INFORMAÇÃO|       SERGIPE|     ARACAJU|     PELE DE OUTRAS PA...|           C443|  CARCINOMA BASO CE...|             80923|  PELE DE OUTRAS PA...|        C443|                       NA|                NA|                             NA|                         NA|                 false|HISTOLOGIA DO TUM...|LOCALIZADO|        NA|       NA| NA|          NA|           NA|           NA|                  NA|        2002-04-03|                NA|2002|\n",
            "|  360924|RCBP ARACAJU| FEMININO|           NA| 80|    BRANCO|         NA|              NA|            NA|                 NA|              CASADO|              0|      SEM INFORMAÇÃO|       SERGIPE|     ARACAJU|     PELE DE OUTRAS PA...|           C443|  CARCINOMA BASO CE...|             80903|  PELE DE OUTRAS PA...|        C443|                       NA|                NA|                             NA|                         NA|                 false|HISTOLOGIA DO TUM...|LOCALIZADO|        NA|       NA| NA|          NA|           NA|           NA|                  NA|        2002-02-18|                NA|2002|\n",
            "|  360929|RCBP ARACAJU|MASCULINO|           NA| 43|     PARDA|     BRASIL|              NA|            NA|                 NA|              CASADO|            715|TRABALHADORES DA ...|       SERGIPE|     ARACAJU|             LARINGE, SOE|           C329|  CARCINOMA DE CELU...|             80703|          LARINGE, SOE|        C329|                       NA|                NA|                             NA|                         NA|                 false|HISTOLOGIA DO TUM...| METÁSTASE|        NA|       NA| NA|          NA|           NA|           NA|                  NA|        2002-05-07|                NA|2002|\n",
            "|  360933|RCBP ARACAJU| FEMININO|   1972-08-18| 30|     PARDA|         NA|              NA|            NA|                 NA|              CASADO|              0|      SEM INFORMAÇÃO|       SERGIPE|     ARACAJU|       COLO DO UTERO, SOE|           C539|  NEOPLASIA INTRA-E...|             80772|    COLO DO UTERO, SOE|        D069|                       NA|                NA|                             NA|                         NA|                 false|HISTOLOGIA DO TUM...|   IN SITU|        NA|       NA| NA|          NA|           NA|           NA|                  NA|        2002-11-13|                NA|2002|\n",
            "|  360935|RCBP ARACAJU|MASCULINO|           NA| 56|    BRANCO|         NA|              NA|            NA|                 NA|SEPARADO JUDICIAL...|            141|GERENTES DE PRODU...|       SERGIPE|     ARACAJU|     ASSOALHO DA BOCA,...|           C049|  CARCINOMA DE CELU...|             80703|  ASSOALHO DA BOCA,...|        C049|                       NA|                NA|                             NA|                         NA|                 false|HISTOLOGIA DO TUM...|        NA|        NA|       NA| NA|          NA|           NA|           NA|                  NA|        2002-06-18|                NA|2002|\n",
            "|  360938|RCBP ARACAJU|MASCULINO|   1929-11-09| 72|    BRANCO|         NA|              NA|            NA|                 NA|                  NA|            141|GERENTES DE PRODU...|       SERGIPE|     ARACAJU|                 PALPEBRA|           C441|  CARCINOMA BASO CE...|             80903|  PELE DA PALPEBRA ...|        C441|                       NA|                NA|                             NA|                         NA|                 false|HISTOLOGIA DO TUM...|LOCALIZADO|        NA|       NA| NA|          NA|           NA|           NA|                  NA|        2002-04-04|                NA|2002|\n",
            "|  360945|RCBP ARACAJU| FEMININO|   1950-12-22| 51|     PARDA|         NA|              NA|            NA|                 NA|            SOLTEIRO|              0|      SEM INFORMAÇÃO|       SERGIPE|     ARACAJU|       COLO DO UTERO, SOE|           C539|  NEOPLASIA INTRA-E...|             80772|    COLO DO UTERO, SOE|        D069|                       NA|                NA|                             NA|                         NA|                 false|HISTOLOGIA DO TUM...|   IN SITU|        NA|       NA| NA|          NA|           NA|           NA|                  NA|        2002-03-13|                NA|2002|\n",
            "|  360946|RCBP ARACAJU| FEMININO|           NA| 39|    BRANCO|         NA|              NA|            NA|                 NA|            SOLTEIRO|            239|OUTROS PROFISSION...|       SERGIPE|     ARACAJU|                PELE, SOE|           C449|  MELANOMA MALIGNO,...|             87203|  MELANOMA MALIGNO ...|        C439|                       NA|                NA|                             NA|                         NA|                 false|HISTOLOGIA DO TUM...|        NA|        NA|       NA| NA|          NA|           NA|           NA|                  NA|        2002-06-27|                NA|2002|\n",
            "|  360960|RCBP ARACAJU|MASCULINO|   1959-05-19| 43|    BRANCO|         NA|              NA|            NA|                 NA|              CASADO|              0|      SEM INFORMAÇÃO|       SERGIPE|     ARACAJU|     PELE DO MEMBRO SU...|           C446|  CARCINOMA BASO CE...|             80903|  PELE DO MEMBRO SU...|        C446|                       NA|                NA|                             NA|                         NA|                 false|HISTOLOGIA DO TUM...|LOCALIZADO|        NA|       NA| NA|          NA|           NA|           NA|                  NA|        2002-09-09|                NA|2002|\n",
            "|  360962|RCBP ARACAJU| FEMININO|   1962-03-02| 40|     PARDA|     BRASIL|              NA|            NA|                 NA|              CASADO|              0|      SEM INFORMAÇÃO|       SERGIPE|     ARACAJU|       COLO DO UTERO, SOE|           C539|  NEOPLASIA INTRA-E...|             80772|    COLO DO UTERO, SOE|        D069|                       NA|                NA|                             NA|                         NA|                 false|HISTOLOGIA DO TUM...|   IN SITU|        NA|       NA| NA|          NA|           NA|           NA|                  NA|        2002-07-30|                NA|2002|\n",
            "|  360955|RCBP ARACAJU|MASCULINO|   1931-07-03| 70|        NA|         NA|              NA|            NA|                 NA|              CASADO|            517|TRABALHADORES NOS...|       SERGIPE|     ARACAJU|             ESOFAGO, SOE|           C159|  CARCINOMA DE CELU...|             80703|          ESOFAGO, SOE|        C159|                       NA|                NA|                             NA|                         NA|                 false|HISTOLOGIA DO TUM...|        NA|        NA|       NA| NA|          NA|   NÃO CÂNCER|   2002-03-17|                  NA|        2002-03-13|                NA|2002|\n",
            "|  360964|RCBP ARACAJU| FEMININO|   1919-05-09| 83|    BRANCO|         NA|              NA|            NA|                 NA|                  NA|              0|      SEM INFORMAÇÃO|       SERGIPE|     ARACAJU|     GLANDULA PAROTIDA...|           C079|   ADENOCARCINOMA, SOE|             81403|     GLANDULA PAROTIDA|         C07|                       NA|                NA|                             NA|                         NA|                 false|HISTOLOGIA DO TUM...| METÁSTASE|        NA|       NA| NA|          NA|           NA|           NA|                  NA|        2002-05-30|                NA|2002|\n",
            "|  360934|RCBP ARACAJU|MASCULINO|   1954-03-04| 48|        NA|     BRASIL|              NA|            NA|                 NA|              CASADO|            252|PROFISSIONAIS DE ...|       SERGIPE|     ARACAJU|     PELE DE OUTRAS PA...|           C443|  CARCINOMA BASO CE...|             80903|  PELE DE OUTRAS PA...|        C443|                       NA|                NA|                             NA|                         NA|                 false|HISTOLOGIA DO TUM...|LOCALIZADO|        NA|       NA| NA|          NA|           NA|           NA|                  NA|        2002-09-18|                NA|2002|\n",
            "|  360973|RCBP ARACAJU| FEMININO|           NA| 71|     PARDA|         NA|              NA|            NA|                 NA|               VIÚVO|            239|OUTROS PROFISSION...|       SERGIPE|     ARACAJU|                 PALPEBRA|           C441|  CARCINOMA BASO CE...|             80923|  PELE DA PALPEBRA ...|        C441|                       NA|                NA|                             NA|                         NA|                 false|HISTOLOGIA DO TUM...|LOCALIZADO|        NA|       NA| NA|          NA|           NA|           NA|                  NA|        2002-04-23|                NA|2002|\n",
            "|  360975|RCBP ARACAJU|MASCULINO|   1923-07-01| 78|    BRANCO|     BRASIL|              NA|            NA|                 NA|                  NA|            521|VENDEDORES E DEMO...|       SERGIPE|     ARACAJU|     PELE DE OUTRAS PA...|           C443|  CARCINOMA BASO CE...|             80923|  PELE DE OUTRAS PA...|        C443|                       NA|                NA|                             NA|                         NA|                 false|HISTOLOGIA DO TUM...|LOCALIZADO|        NA|       NA| NA|          NA|           NA|           NA|                  NA|        2002-01-25|                NA|2002|\n",
            "|  360980|RCBP ARACAJU|MASCULINO|           NA| 45|    BRANCO|     BRASIL|              NA|            NA|                 NA|              CASADO|              0|      SEM INFORMAÇÃO|       SERGIPE|     ARACAJU|                 PALPEBRA|           C441|  CARCINOMA BASO CE...|             80903|  PELE DA PALPEBRA ...|        C441|                       NA|                NA|                             NA|                         NA|                 false|HISTOLOGIA DO TUM...|LOCALIZADO|        NA|       NA| NA|          NA|           NA|           NA|                  NA|        2002-09-17|                NA|2002|\n",
            "|  360983|RCBP ARACAJU| FEMININO|   1969-08-19| 32|     PARDA|         NA|              NA|            NA|                 NA|              CASADO|              0|      SEM INFORMAÇÃO|       SERGIPE|     ARACAJU|       COLO DO UTERO, SOE|           C539|  NEOPLASIA INTRA-E...|             80772|    COLO DO UTERO, SOE|        D069|                       NA|                NA|                             NA|                         NA|                 false|HISTOLOGIA DO TUM...|   IN SITU|        NA|       NA| NA|          NA|           NA|           NA|                  NA|        2002-08-15|                NA|2002|\n",
            "+--------+------------+---------+-------------+---+----------+-----------+----------------+--------------+-------------------+--------------------+---------------+--------------------+--------------+------------+-------------------------+---------------+----------------------+------------------+----------------------+------------+-------------------------+------------------+-------------------------------+---------------------------+----------------------+--------------------+----------+----------+---------+---+------------+-------------+-------------+--------------------+------------------+------------------+----+\n",
            "only showing top 20 rows\n",
            "\n",
            "None\n"
          ]
        }
      ]
    },
    {
      "cell_type": "code",
      "source": [
        "df_soft = df_parquet.drop(\"RCBP_Name\",\"Code_of_Disease.Adult_Young.\",\"Topography_Code\",\"Morphology_Description\",\"Code_of_Morphology\",\\\n",
        "                   \"Code_of_Disease_Adult_Young\",\"Youth_Adult_Illness_Description\",\"Naturality\",\"State_Civil\",\"Code_Profession\",\\\n",
        "                   \"Name_Occupation\",\"Description_of_Topography\",\"Indicator_of_Rare_Case\",\"year\",\"Distant_metastasis\",\"Date_of_Diagnostic\",\\\n",
        "                   \"Date_of_Last_Contact\",\"Date_of_Last_Contact\",\"TNM\",\"Statement\",\"Laterality\",\"Extension\",\"Diagnostic_means\",\\\n",
        "                   \"Code_of_Disease_Adult_Young\",\"Youth_Adult_Illness_Descriptio\",\"Child_Illness_Code\", \"Child_Illness_Description\",\\\n",
        "                   \"Date_of_Birth\",\"Raca_Color\",\"Degree_of_Education\",\"Naturality_State\",\"Nationality\",\"status_vital\",\"Illness_Code\")"
      ],
      "metadata": {
        "id": "P4vxlyW75f9c"
      },
      "execution_count": 38,
      "outputs": []
    },
    {
      "cell_type": "code",
      "source": [
        "df_soft = df_soft\\\n",
        ".withColumnRenamed('Patient_Code','cod_paci')\\\n",
        ".withColumnRenamed('Status_Address','estado')\\\n",
        ".withColumnRenamed('City_Address','cidade')\\\n",
        ".withColumnRenamed('Type_of_Death','tipo_morte')\\\n",
        ".withColumnRenamed('Date_of_Death','data_morte')\\\n",
        ".withColumnRenamed('Description_of_Disease','tipo_cancer')"
      ],
      "metadata": {
        "id": "5X1eqVI05kkq"
      },
      "execution_count": 39,
      "outputs": []
    },
    {
      "cell_type": "code",
      "source": [
        "df_soft = df_soft.withColumn(\"cod_paci\", df_soft[\"cod_paci\"].cast(IntegerType()))\\\n",
        "                   .withColumn(\"Age\", df_soft[\"Age\"].cast(IntegerType()))"
      ],
      "metadata": {
        "id": "BjeHlNlH5lQo"
      },
      "execution_count": 40,
      "outputs": []
    },
    {
      "cell_type": "code",
      "source": [
        "df_soft = df_soft.withColumn(\"cancer_dead\", when(df_soft[\"tipo_morte\"] == \"CÂNCER\", 1).otherwise(0))\\\n",
        ".withColumn(\"ano_morte\", year(df_soft[\"data_morte\"]))"
      ],
      "metadata": {
        "id": "JyG6s9Mu5n8i"
      },
      "execution_count": 41,
      "outputs": []
    },
    {
      "cell_type": "code",
      "source": [
        "# Registra o DataFrame como uma tabela temporária\n",
        "df_soft.createOrReplaceTempView(\"df_table\")"
      ],
      "metadata": {
        "id": "m8UBQpiG5pny"
      },
      "execution_count": 42,
      "outputs": []
    },
    {
      "cell_type": "code",
      "source": [
        "# Use a cláusula CASE WHEN THEN ELSE em SQL\n",
        "query_age = \"\"\"\n",
        "SELECT *,\n",
        "CASE \n",
        "    WHEN Age BETWEEN 0 AND 4 THEN '0-4'\n",
        "    WHEN Age BETWEEN 5 AND 14 THEN '5-14'\n",
        "    WHEN Age BETWEEN 15 AND 24 THEN '15-24'\n",
        "    WHEN Age BETWEEN 25 AND 34 THEN '25-34'\n",
        "    WHEN Age BETWEEN 35 AND 44 THEN '35-44'\n",
        "    WHEN Age BETWEEN 45 AND 54 THEN '45-54'\n",
        "    WHEN Age BETWEEN 55 AND 64 THEN '55-64'\n",
        "    WHEN Age BETWEEN 65 AND 74 THEN '65-74'\n",
        "    WHEN Age BETWEEN 75 AND 84 THEN '75-84'\n",
        "    ELSE '85+'\n",
        "END AS Faixa_etaria\n",
        "FROM df_table\n",
        "\"\"\"\n"
      ],
      "metadata": {
        "id": "4NqY0QZR5qEi"
      },
      "execution_count": 43,
      "outputs": []
    },
    {
      "cell_type": "code",
      "source": [
        "df_soft = spark.sql(query_age)"
      ],
      "metadata": {
        "id": "-EHGabx75sx1"
      },
      "execution_count": 44,
      "outputs": []
    },
    {
      "cell_type": "code",
      "source": [
        "# imprime os dados lidos em parquet\n",
        "print (\"\\nImprime os dados com a coluna faixa etaria\")\n",
        "print (df_soft.show())"
      ],
      "metadata": {
        "id": "tp4ReRjz5vOq",
        "colab": {
          "base_uri": "https://localhost:8080/"
        },
        "outputId": "5d947999-25ea-4798-cd2b-380b5b63352f"
      },
      "execution_count": 45,
      "outputs": [
        {
          "output_type": "stream",
          "name": "stdout",
          "text": [
            "\n",
            "Imprime os dados com a coluna faixa etaria\n",
            "+--------+---------+---+-------+-------+--------------------+----------+----------+-----------+---------+------------+\n",
            "|cod_paci|   Gender|Age| estado| cidade|         tipo_cancer|tipo_morte|data_morte|cancer_dead|ano_morte|Faixa_etaria|\n",
            "+--------+---------+---+-------+-------+--------------------+----------+----------+-----------+---------+------------+\n",
            "|  360918| FEMININO| 69|SERGIPE|ARACAJU|  COLO DO UTERO, SOE|        NA|        NA|          0|     null|       65-74|\n",
            "|  360871| FEMININO| 51|SERGIPE|ARACAJU|PELE DE OUTRAS PA...|        NA|        NA|          0|     null|       45-54|\n",
            "|  360901| FEMININO| 39|SERGIPE|ARACAJU|PELE DE OUTRAS PA...|    CÂNCER|2015-10-03|          1|     2015|       35-44|\n",
            "|  360922| FEMININO| 87|SERGIPE|ARACAJU|PELE DE OUTRAS PA...|        NA|        NA|          0|     null|         85+|\n",
            "|  360924| FEMININO| 80|SERGIPE|ARACAJU|PELE DE OUTRAS PA...|        NA|        NA|          0|     null|       75-84|\n",
            "|  360929|MASCULINO| 43|SERGIPE|ARACAJU|        LARINGE, SOE|        NA|        NA|          0|     null|       35-44|\n",
            "|  360933| FEMININO| 30|SERGIPE|ARACAJU|  COLO DO UTERO, SOE|        NA|        NA|          0|     null|       25-34|\n",
            "|  360935|MASCULINO| 56|SERGIPE|ARACAJU|ASSOALHO DA BOCA,...|        NA|        NA|          0|     null|       55-64|\n",
            "|  360938|MASCULINO| 72|SERGIPE|ARACAJU|PELE DA PALPEBRA ...|        NA|        NA|          0|     null|       65-74|\n",
            "|  360945| FEMININO| 51|SERGIPE|ARACAJU|  COLO DO UTERO, SOE|        NA|        NA|          0|     null|       45-54|\n",
            "|  360946| FEMININO| 39|SERGIPE|ARACAJU|MELANOMA MALIGNO ...|        NA|        NA|          0|     null|       35-44|\n",
            "|  360960|MASCULINO| 43|SERGIPE|ARACAJU|PELE DO MEMBRO SU...|        NA|        NA|          0|     null|       35-44|\n",
            "|  360962| FEMININO| 40|SERGIPE|ARACAJU|  COLO DO UTERO, SOE|        NA|        NA|          0|     null|       35-44|\n",
            "|  360955|MASCULINO| 70|SERGIPE|ARACAJU|        ESOFAGO, SOE|NÃO CÂNCER|2002-03-17|          0|     2002|       65-74|\n",
            "|  360964| FEMININO| 83|SERGIPE|ARACAJU|   GLANDULA PAROTIDA|        NA|        NA|          0|     null|       75-84|\n",
            "|  360934|MASCULINO| 48|SERGIPE|ARACAJU|PELE DE OUTRAS PA...|        NA|        NA|          0|     null|       45-54|\n",
            "|  360973| FEMININO| 71|SERGIPE|ARACAJU|PELE DA PALPEBRA ...|        NA|        NA|          0|     null|       65-74|\n",
            "|  360975|MASCULINO| 78|SERGIPE|ARACAJU|PELE DE OUTRAS PA...|        NA|        NA|          0|     null|       75-84|\n",
            "|  360980|MASCULINO| 45|SERGIPE|ARACAJU|PELE DA PALPEBRA ...|        NA|        NA|          0|     null|       45-54|\n",
            "|  360983| FEMININO| 32|SERGIPE|ARACAJU|  COLO DO UTERO, SOE|        NA|        NA|          0|     null|       25-34|\n",
            "+--------+---------+---+-------+-------+--------------------+----------+----------+-----------+---------+------------+\n",
            "only showing top 20 rows\n",
            "\n",
            "None\n"
          ]
        }
      ]
    },
    {
      "cell_type": "code",
      "source": [
        "df_soft.createOrReplaceTempView(\"df_table\")"
      ],
      "metadata": {
        "id": "1715g1qJ5wo8"
      },
      "execution_count": 46,
      "outputs": []
    },
    {
      "cell_type": "code",
      "source": [
        "query_taxa = \"\"\"\n",
        "WITH cancer_stats AS (\n",
        "    SELECT \n",
        "        tipo_cancer, \n",
        "        SUM(cancer_dead) as num_mortes, \n",
        "        COUNT(cod_paci) as num_casos,\n",
        "        SUM(cancer_dead) / COUNT(cod_paci) as taxa_morte_tipo_cancer\n",
        "    FROM df_table\n",
        "    GROUP BY tipo_cancer\n",
        ")\n",
        "SELECT df_table.*, cancer_stats.taxa_morte_tipo_cancer\n",
        "FROM df_table\n",
        "LEFT JOIN cancer_stats\n",
        "ON df_table.tipo_cancer = cancer_stats.tipo_cancer\n",
        "\"\"\""
      ],
      "metadata": {
        "id": "88T0J0iP5yaU"
      },
      "execution_count": 47,
      "outputs": []
    },
    {
      "cell_type": "code",
      "source": [
        "df_soft = spark.sql(query_taxa)"
      ],
      "metadata": {
        "id": "-egFJSRY5zB4"
      },
      "execution_count": 48,
      "outputs": []
    },
    {
      "cell_type": "code",
      "source": [
        "df_soft.repartition(1)\\\n",
        "          .write\\\n",
        "          .format(\"parquet\")\\\n",
        "          .mode(\"overwrite\")\\\n",
        "          .save(\"/content/drive/MyDrive/Dados/PROJETO-DATA-CANCER/curated\")"
      ],
      "metadata": {
        "id": "43kJTKP352F5"
      },
      "execution_count": 49,
      "outputs": []
    },
    {
      "cell_type": "code",
      "source": [
        "# imprime os dados lidos em parquet\n",
        "print (\"\\nImprime os dados que foram processados para curated\")\n",
        "print (df_soft.show())"
      ],
      "metadata": {
        "id": "FUOUe7U252vR",
        "colab": {
          "base_uri": "https://localhost:8080/"
        },
        "outputId": "ee2d223d-7062-45c2-bf3f-531839b16620"
      },
      "execution_count": 50,
      "outputs": [
        {
          "output_type": "stream",
          "name": "stdout",
          "text": [
            "\n",
            "Imprime os dados que foram processados para curated\n",
            "+--------+---------+---+-------+-------+--------------------+----------+----------+-----------+---------+------------+----------------------+\n",
            "|cod_paci|   Gender|Age| estado| cidade|         tipo_cancer|tipo_morte|data_morte|cancer_dead|ano_morte|Faixa_etaria|taxa_morte_tipo_cancer|\n",
            "+--------+---------+---+-------+-------+--------------------+----------+----------+-----------+---------+------------+----------------------+\n",
            "|  360918| FEMININO| 69|SERGIPE|ARACAJU|  COLO DO UTERO, SOE|        NA|        NA|          0|     null|       65-74|   0.14399454261711414|\n",
            "|  360871| FEMININO| 51|SERGIPE|ARACAJU|PELE DE OUTRAS PA...|        NA|        NA|          0|     null|       45-54|   0.03463413489001745|\n",
            "|  360901| FEMININO| 39|SERGIPE|ARACAJU|PELE DE OUTRAS PA...|    CÂNCER|2015-10-03|          1|     2015|       35-44|   0.03463413489001745|\n",
            "|  360922| FEMININO| 87|SERGIPE|ARACAJU|PELE DE OUTRAS PA...|        NA|        NA|          0|     null|         85+|   0.03463413489001745|\n",
            "|  360924| FEMININO| 80|SERGIPE|ARACAJU|PELE DE OUTRAS PA...|        NA|        NA|          0|     null|       75-84|   0.03463413489001745|\n",
            "|  360929|MASCULINO| 43|SERGIPE|ARACAJU|        LARINGE, SOE|        NA|        NA|          0|     null|       35-44|    0.3722051038950778|\n",
            "|  360933| FEMININO| 30|SERGIPE|ARACAJU|  COLO DO UTERO, SOE|        NA|        NA|          0|     null|       25-34|   0.14399454261711414|\n",
            "|  360935|MASCULINO| 56|SERGIPE|ARACAJU|ASSOALHO DA BOCA,...|        NA|        NA|          0|     null|       55-64|    0.3094262295081967|\n",
            "|  360938|MASCULINO| 72|SERGIPE|ARACAJU|PELE DA PALPEBRA ...|        NA|        NA|          0|     null|       65-74|  0.033273316528628014|\n",
            "|  360945| FEMININO| 51|SERGIPE|ARACAJU|  COLO DO UTERO, SOE|        NA|        NA|          0|     null|       45-54|   0.14399454261711414|\n",
            "|  360946| FEMININO| 39|SERGIPE|ARACAJU|MELANOMA MALIGNO ...|        NA|        NA|          0|     null|       35-44|   0.24964426877470355|\n",
            "|  360960|MASCULINO| 43|SERGIPE|ARACAJU|PELE DO MEMBRO SU...|        NA|        NA|          0|     null|       35-44|   0.03366795820124457|\n",
            "|  360962| FEMININO| 40|SERGIPE|ARACAJU|  COLO DO UTERO, SOE|        NA|        NA|          0|     null|       35-44|   0.14399454261711414|\n",
            "|  360955|MASCULINO| 70|SERGIPE|ARACAJU|        ESOFAGO, SOE|NÃO CÂNCER|2002-03-17|          0|     2002|       65-74|   0.44938451150470055|\n",
            "|  360964| FEMININO| 83|SERGIPE|ARACAJU|   GLANDULA PAROTIDA|        NA|        NA|          0|     null|       75-84|   0.20278833967046894|\n",
            "|  360934|MASCULINO| 48|SERGIPE|ARACAJU|PELE DE OUTRAS PA...|        NA|        NA|          0|     null|       45-54|   0.03463413489001745|\n",
            "|  360973| FEMININO| 71|SERGIPE|ARACAJU|PELE DA PALPEBRA ...|        NA|        NA|          0|     null|       65-74|  0.033273316528628014|\n",
            "|  360975|MASCULINO| 78|SERGIPE|ARACAJU|PELE DE OUTRAS PA...|        NA|        NA|          0|     null|       75-84|   0.03463413489001745|\n",
            "|  360980|MASCULINO| 45|SERGIPE|ARACAJU|PELE DA PALPEBRA ...|        NA|        NA|          0|     null|       45-54|  0.033273316528628014|\n",
            "|  360983| FEMININO| 32|SERGIPE|ARACAJU|  COLO DO UTERO, SOE|        NA|        NA|          0|     null|       25-34|   0.14399454261711414|\n",
            "+--------+---------+---+-------+-------+--------------------+----------+----------+-----------+---------+------------+----------------------+\n",
            "only showing top 20 rows\n",
            "\n",
            "None\n"
          ]
        }
      ]
    },
    {
      "cell_type": "code",
      "source": [
        "# para a aplicação\n",
        "spark.stop()"
      ],
      "metadata": {
        "id": "groD_EIg58rJ"
      },
      "execution_count": 51,
      "outputs": []
    }
  ]
}