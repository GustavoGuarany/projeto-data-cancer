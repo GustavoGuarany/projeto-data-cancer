{
  "cells": [
    {
      "cell_type": "code",
      "execution_count": 10,
      "metadata": {
        "id": "rQGxnFGE64Hr"
      },
      "outputs": [],
      "source": [
        "#importando as bibliotecas\n",
        "import pandas as pd\n",
        "import datetime\n",
        "import glob\n",
        "import math\n",
        "import seaborn as sns\n",
        "import matplotlib.pyplot as plt"
      ]
    },
    {
      "cell_type": "code",
      "execution_count": 11,
      "metadata": {
        "id": "LraFJI-e7F_t"
      },
      "outputs": [],
      "source": [
        "df_parquet = pd.DataFrame()"
      ]
    },
    {
      "cell_type": "code",
      "execution_count": 12,
      "metadata": {
        "id": "OI_gzZ6p7W3K"
      },
      "outputs": [],
      "source": [
        "#Caminho do arquivo\n",
        "arquivo = '/content/drive/MyDrive/Dados/PROJETO-DATA-CANCER/curated/part-00000-4c17ff53-5e7b-4d56-b04e-e5b5f4623123-c000.snappy.parquet'"
      ]
    },
    {
      "cell_type": "code",
      "execution_count": 13,
      "metadata": {
        "id": "FUdAIQDb7UJL"
      },
      "outputs": [],
      "source": [
        "#Abrindo o arquivo parquet\n",
        "df_parquet = pd.read_parquet(arquivo)"
      ]
    },
    {
      "cell_type": "code",
      "execution_count": null,
      "metadata": {
        "id": "26C-vmhX8xhZ"
      },
      "outputs": [],
      "source": [
        "#contagem do dataframe\n",
        "df_parquet.count()"
      ]
    },
    {
      "cell_type": "code",
      "execution_count": 39,
      "metadata": {
        "colab": {
          "base_uri": "https://localhost:8080/",
          "height": 363
        },
        "id": "veiMm3AL8HNC",
        "outputId": "a39e6583-548b-4f20-e119-d50856e2d034"
      },
      "outputs": [
        {
          "data": {
            "text/html": [
              "\n",
              "  <div id=\"df-852efc22-79df-4c84-a727-6bcc165b6844\">\n",
              "    <div class=\"colab-df-container\">\n",
              "      <div>\n",
              "<style scoped>\n",
              "    .dataframe tbody tr th:only-of-type {\n",
              "        vertical-align: middle;\n",
              "    }\n",
              "\n",
              "    .dataframe tbody tr th {\n",
              "        vertical-align: top;\n",
              "    }\n",
              "\n",
              "    .dataframe thead th {\n",
              "        text-align: right;\n",
              "    }\n",
              "</style>\n",
              "<table border=\"1\" class=\"dataframe\">\n",
              "  <thead>\n",
              "    <tr style=\"text-align: right;\">\n",
              "      <th></th>\n",
              "      <th>cod_paci</th>\n",
              "      <th>Gender</th>\n",
              "      <th>Age</th>\n",
              "      <th>estado</th>\n",
              "      <th>cidade</th>\n",
              "      <th>tipo_cancer</th>\n",
              "      <th>tipo_morte</th>\n",
              "      <th>data_morte</th>\n",
              "      <th>cancer_dead</th>\n",
              "      <th>ano_morte</th>\n",
              "      <th>Faixa_etaria</th>\n",
              "      <th>taxa_morte_tipo_cancer</th>\n",
              "    </tr>\n",
              "  </thead>\n",
              "  <tbody>\n",
              "    <tr>\n",
              "      <th>0</th>\n",
              "      <td>360918.0</td>\n",
              "      <td>FEMININO</td>\n",
              "      <td>69.0</td>\n",
              "      <td>SERGIPE</td>\n",
              "      <td>ARACAJU</td>\n",
              "      <td>COLO DO UTERO, SOE</td>\n",
              "      <td>NA</td>\n",
              "      <td>NA</td>\n",
              "      <td>0</td>\n",
              "      <td>NaN</td>\n",
              "      <td>65-74</td>\n",
              "      <td>0.143995</td>\n",
              "    </tr>\n",
              "    <tr>\n",
              "      <th>1</th>\n",
              "      <td>360871.0</td>\n",
              "      <td>FEMININO</td>\n",
              "      <td>51.0</td>\n",
              "      <td>SERGIPE</td>\n",
              "      <td>ARACAJU</td>\n",
              "      <td>PELE DE OUTRAS PARTES DA FACE</td>\n",
              "      <td>NA</td>\n",
              "      <td>NA</td>\n",
              "      <td>0</td>\n",
              "      <td>NaN</td>\n",
              "      <td>45-54</td>\n",
              "      <td>0.034634</td>\n",
              "    </tr>\n",
              "    <tr>\n",
              "      <th>2</th>\n",
              "      <td>360901.0</td>\n",
              "      <td>FEMININO</td>\n",
              "      <td>39.0</td>\n",
              "      <td>SERGIPE</td>\n",
              "      <td>ARACAJU</td>\n",
              "      <td>PELE DE OUTRAS PARTES DA FACE</td>\n",
              "      <td>CÂNCER</td>\n",
              "      <td>2015-10-03</td>\n",
              "      <td>1</td>\n",
              "      <td>2015.0</td>\n",
              "      <td>35-44</td>\n",
              "      <td>0.034634</td>\n",
              "    </tr>\n",
              "    <tr>\n",
              "      <th>3</th>\n",
              "      <td>360922.0</td>\n",
              "      <td>FEMININO</td>\n",
              "      <td>87.0</td>\n",
              "      <td>SERGIPE</td>\n",
              "      <td>ARACAJU</td>\n",
              "      <td>PELE DE OUTRAS PARTES DA FACE</td>\n",
              "      <td>NA</td>\n",
              "      <td>NA</td>\n",
              "      <td>0</td>\n",
              "      <td>NaN</td>\n",
              "      <td>85+</td>\n",
              "      <td>0.034634</td>\n",
              "    </tr>\n",
              "    <tr>\n",
              "      <th>4</th>\n",
              "      <td>360924.0</td>\n",
              "      <td>FEMININO</td>\n",
              "      <td>80.0</td>\n",
              "      <td>SERGIPE</td>\n",
              "      <td>ARACAJU</td>\n",
              "      <td>PELE DE OUTRAS PARTES DA FACE</td>\n",
              "      <td>NA</td>\n",
              "      <td>NA</td>\n",
              "      <td>0</td>\n",
              "      <td>NaN</td>\n",
              "      <td>75-84</td>\n",
              "      <td>0.034634</td>\n",
              "    </tr>\n",
              "    <tr>\n",
              "      <th>5</th>\n",
              "      <td>360929.0</td>\n",
              "      <td>MASCULINO</td>\n",
              "      <td>43.0</td>\n",
              "      <td>SERGIPE</td>\n",
              "      <td>ARACAJU</td>\n",
              "      <td>LARINGE, SOE</td>\n",
              "      <td>NA</td>\n",
              "      <td>NA</td>\n",
              "      <td>0</td>\n",
              "      <td>NaN</td>\n",
              "      <td>35-44</td>\n",
              "      <td>0.372205</td>\n",
              "    </tr>\n",
              "    <tr>\n",
              "      <th>6</th>\n",
              "      <td>360933.0</td>\n",
              "      <td>FEMININO</td>\n",
              "      <td>30.0</td>\n",
              "      <td>SERGIPE</td>\n",
              "      <td>ARACAJU</td>\n",
              "      <td>COLO DO UTERO, SOE</td>\n",
              "      <td>NA</td>\n",
              "      <td>NA</td>\n",
              "      <td>0</td>\n",
              "      <td>NaN</td>\n",
              "      <td>25-34</td>\n",
              "      <td>0.143995</td>\n",
              "    </tr>\n",
              "    <tr>\n",
              "      <th>7</th>\n",
              "      <td>360935.0</td>\n",
              "      <td>MASCULINO</td>\n",
              "      <td>56.0</td>\n",
              "      <td>SERGIPE</td>\n",
              "      <td>ARACAJU</td>\n",
              "      <td>ASSOALHO DA BOCA, SOE</td>\n",
              "      <td>NA</td>\n",
              "      <td>NA</td>\n",
              "      <td>0</td>\n",
              "      <td>NaN</td>\n",
              "      <td>55-64</td>\n",
              "      <td>0.309426</td>\n",
              "    </tr>\n",
              "    <tr>\n",
              "      <th>8</th>\n",
              "      <td>360938.0</td>\n",
              "      <td>MASCULINO</td>\n",
              "      <td>72.0</td>\n",
              "      <td>SERGIPE</td>\n",
              "      <td>ARACAJU</td>\n",
              "      <td>PELE DA PALPEBRA E CANTO</td>\n",
              "      <td>NA</td>\n",
              "      <td>NA</td>\n",
              "      <td>0</td>\n",
              "      <td>NaN</td>\n",
              "      <td>65-74</td>\n",
              "      <td>0.033273</td>\n",
              "    </tr>\n",
              "    <tr>\n",
              "      <th>9</th>\n",
              "      <td>360945.0</td>\n",
              "      <td>FEMININO</td>\n",
              "      <td>51.0</td>\n",
              "      <td>SERGIPE</td>\n",
              "      <td>ARACAJU</td>\n",
              "      <td>COLO DO UTERO, SOE</td>\n",
              "      <td>NA</td>\n",
              "      <td>NA</td>\n",
              "      <td>0</td>\n",
              "      <td>NaN</td>\n",
              "      <td>45-54</td>\n",
              "      <td>0.143995</td>\n",
              "    </tr>\n",
              "  </tbody>\n",
              "</table>\n",
              "</div>\n",
              "      <button class=\"colab-df-convert\" onclick=\"convertToInteractive('df-852efc22-79df-4c84-a727-6bcc165b6844')\"\n",
              "              title=\"Convert this dataframe to an interactive table.\"\n",
              "              style=\"display:none;\">\n",
              "        \n",
              "  <svg xmlns=\"http://www.w3.org/2000/svg\" height=\"24px\"viewBox=\"0 0 24 24\"\n",
              "       width=\"24px\">\n",
              "    <path d=\"M0 0h24v24H0V0z\" fill=\"none\"/>\n",
              "    <path d=\"M18.56 5.44l.94 2.06.94-2.06 2.06-.94-2.06-.94-.94-2.06-.94 2.06-2.06.94zm-11 1L8.5 8.5l.94-2.06 2.06-.94-2.06-.94L8.5 2.5l-.94 2.06-2.06.94zm10 10l.94 2.06.94-2.06 2.06-.94-2.06-.94-.94-2.06-.94 2.06-2.06.94z\"/><path d=\"M17.41 7.96l-1.37-1.37c-.4-.4-.92-.59-1.43-.59-.52 0-1.04.2-1.43.59L10.3 9.45l-7.72 7.72c-.78.78-.78 2.05 0 2.83L4 21.41c.39.39.9.59 1.41.59.51 0 1.02-.2 1.41-.59l7.78-7.78 2.81-2.81c.8-.78.8-2.07 0-2.86zM5.41 20L4 18.59l7.72-7.72 1.47 1.35L5.41 20z\"/>\n",
              "  </svg>\n",
              "      </button>\n",
              "      \n",
              "  <style>\n",
              "    .colab-df-container {\n",
              "      display:flex;\n",
              "      flex-wrap:wrap;\n",
              "      gap: 12px;\n",
              "    }\n",
              "\n",
              "    .colab-df-convert {\n",
              "      background-color: #E8F0FE;\n",
              "      border: none;\n",
              "      border-radius: 50%;\n",
              "      cursor: pointer;\n",
              "      display: none;\n",
              "      fill: #1967D2;\n",
              "      height: 32px;\n",
              "      padding: 0 0 0 0;\n",
              "      width: 32px;\n",
              "    }\n",
              "\n",
              "    .colab-df-convert:hover {\n",
              "      background-color: #E2EBFA;\n",
              "      box-shadow: 0px 1px 2px rgba(60, 64, 67, 0.3), 0px 1px 3px 1px rgba(60, 64, 67, 0.15);\n",
              "      fill: #174EA6;\n",
              "    }\n",
              "\n",
              "    [theme=dark] .colab-df-convert {\n",
              "      background-color: #3B4455;\n",
              "      fill: #D2E3FC;\n",
              "    }\n",
              "\n",
              "    [theme=dark] .colab-df-convert:hover {\n",
              "      background-color: #434B5C;\n",
              "      box-shadow: 0px 1px 3px 1px rgba(0, 0, 0, 0.15);\n",
              "      filter: drop-shadow(0px 1px 2px rgba(0, 0, 0, 0.3));\n",
              "      fill: #FFFFFF;\n",
              "    }\n",
              "  </style>\n",
              "\n",
              "      <script>\n",
              "        const buttonEl =\n",
              "          document.querySelector('#df-852efc22-79df-4c84-a727-6bcc165b6844 button.colab-df-convert');\n",
              "        buttonEl.style.display =\n",
              "          google.colab.kernel.accessAllowed ? 'block' : 'none';\n",
              "\n",
              "        async function convertToInteractive(key) {\n",
              "          const element = document.querySelector('#df-852efc22-79df-4c84-a727-6bcc165b6844');\n",
              "          const dataTable =\n",
              "            await google.colab.kernel.invokeFunction('convertToInteractive',\n",
              "                                                     [key], {});\n",
              "          if (!dataTable) return;\n",
              "\n",
              "          const docLinkHtml = 'Like what you see? Visit the ' +\n",
              "            '<a target=\"_blank\" href=https://colab.research.google.com/notebooks/data_table.ipynb>data table notebook</a>'\n",
              "            + ' to learn more about interactive tables.';\n",
              "          element.innerHTML = '';\n",
              "          dataTable['output_type'] = 'display_data';\n",
              "          await google.colab.output.renderOutput(dataTable, element);\n",
              "          const docLink = document.createElement('div');\n",
              "          docLink.innerHTML = docLinkHtml;\n",
              "          element.appendChild(docLink);\n",
              "        }\n",
              "      </script>\n",
              "    </div>\n",
              "  </div>\n",
              "  "
            ],
            "text/plain": [
              "   cod_paci     Gender   Age   estado   cidade                    tipo_cancer  \\\n",
              "0  360918.0   FEMININO  69.0  SERGIPE  ARACAJU             COLO DO UTERO, SOE   \n",
              "1  360871.0   FEMININO  51.0  SERGIPE  ARACAJU  PELE DE OUTRAS PARTES DA FACE   \n",
              "2  360901.0   FEMININO  39.0  SERGIPE  ARACAJU  PELE DE OUTRAS PARTES DA FACE   \n",
              "3  360922.0   FEMININO  87.0  SERGIPE  ARACAJU  PELE DE OUTRAS PARTES DA FACE   \n",
              "4  360924.0   FEMININO  80.0  SERGIPE  ARACAJU  PELE DE OUTRAS PARTES DA FACE   \n",
              "5  360929.0  MASCULINO  43.0  SERGIPE  ARACAJU                   LARINGE, SOE   \n",
              "6  360933.0   FEMININO  30.0  SERGIPE  ARACAJU             COLO DO UTERO, SOE   \n",
              "7  360935.0  MASCULINO  56.0  SERGIPE  ARACAJU          ASSOALHO DA BOCA, SOE   \n",
              "8  360938.0  MASCULINO  72.0  SERGIPE  ARACAJU       PELE DA PALPEBRA E CANTO   \n",
              "9  360945.0   FEMININO  51.0  SERGIPE  ARACAJU             COLO DO UTERO, SOE   \n",
              "\n",
              "  tipo_morte  data_morte  cancer_dead  ano_morte Faixa_etaria  \\\n",
              "0         NA          NA            0        NaN        65-74   \n",
              "1         NA          NA            0        NaN        45-54   \n",
              "2     CÂNCER  2015-10-03            1     2015.0        35-44   \n",
              "3         NA          NA            0        NaN          85+   \n",
              "4         NA          NA            0        NaN        75-84   \n",
              "5         NA          NA            0        NaN        35-44   \n",
              "6         NA          NA            0        NaN        25-34   \n",
              "7         NA          NA            0        NaN        55-64   \n",
              "8         NA          NA            0        NaN        65-74   \n",
              "9         NA          NA            0        NaN        45-54   \n",
              "\n",
              "   taxa_morte_tipo_cancer  \n",
              "0                0.143995  \n",
              "1                0.034634  \n",
              "2                0.034634  \n",
              "3                0.034634  \n",
              "4                0.034634  \n",
              "5                0.372205  \n",
              "6                0.143995  \n",
              "7                0.309426  \n",
              "8                0.033273  \n",
              "9                0.143995  "
            ]
          },
          "execution_count": 39,
          "metadata": {},
          "output_type": "execute_result"
        }
      ],
      "source": [
        "df_parquet.head(10)"
      ]
    },
    {
      "cell_type": "code",
      "execution_count": 16,
      "metadata": {
        "id": "-PwRL2PMvsg_"
      },
      "outputs": [],
      "source": [
        "count_gender = df_parquet['Gender'].value_counts()"
      ]
    },
    {
      "cell_type": "code",
      "execution_count": 38,
      "metadata": {
        "colab": {
          "base_uri": "https://localhost:8080/"
        },
        "id": "GpZmWRQWxKq7",
        "outputId": "adee36da-30f2-4349-ca79-6e13a1230131"
      },
      "outputs": [
        {
          "data": {
            "text/plain": [
              "FEMININO     971471\n",
              "MASCULINO    806534\n",
              "IGNORADO        171\n",
              "Name: Gender, dtype: int64"
            ]
          },
          "execution_count": 38,
          "metadata": {},
          "output_type": "execute_result"
        }
      ],
      "source": [
        "count_gender.head()"
      ]
    },
    {
      "cell_type": "code",
      "execution_count": 18,
      "metadata": {
        "id": "6wsK5tqdz7gW"
      },
      "outputs": [],
      "source": [
        "#incidencia de cancer faixa etaria\n",
        "incidencia_cancer = df_parquet.groupby(['Faixa_etaria', 'tipo_cancer']).size().reset_index(name='Count')\n"
      ]
    },
    {
      "cell_type": "code",
      "execution_count": 19,
      "metadata": {
        "id": "LuL1rcVQ0t_3"
      },
      "outputs": [],
      "source": [
        "# Obter os 5 tipos de câncer com mais ocorrências para cada faixa etária\n",
        "top5_cancer = incidencia_cancer.groupby('Faixa_etaria').apply(lambda x: x.nlargest(5, 'Count')).reset_index(drop=True)"
      ]
    },
    {
      "cell_type": "code",
      "execution_count": null,
      "metadata": {
        "id": "1u07Gg6Ez7S6"
      },
      "outputs": [],
      "source": [
        "# Exibir o DataFrame de forma mais agradável usando estilo\n",
        "top5_cancer.style.set_properties(**{'background-color': 'lightblue', \n",
        "                                    'color': 'black',\n",
        "                                    'border-color': 'white'})"
      ]
    },
    {
      "cell_type": "code",
      "execution_count": 21,
      "metadata": {
        "id": "_qgyDky68ag5"
      },
      "outputs": [],
      "source": [
        "#Selecionando os 20 tipos de cancer que mais matam\n",
        "grouped_data = df_parquet.groupby('tipo_cancer')['cancer_dead'].sum()\n",
        "top_20_cancers = grouped_data.nlargest(20).index\n",
        "filtered_data = df_parquet[df_parquet['tipo_cancer'].isin(top_20_cancers)]"
      ]
    },
    {
      "cell_type": "code",
      "execution_count": null,
      "metadata": {
        "id": "3D5Uyt1B8cVn"
      },
      "outputs": [],
      "source": [
        "filtered_data.head(60)"
      ]
    },
    {
      "cell_type": "code",
      "execution_count": 1,
      "metadata": {
        "id": "droGC1Ih8qVm"
      },
      "outputs": [
        {
          "ename": "NameError",
          "evalue": "name 'plt' is not defined",
          "output_type": "error",
          "traceback": [
            "\u001b[1;31m---------------------------------------------------------------------------\u001b[0m",
            "\u001b[1;31mNameError\u001b[0m                                 Traceback (most recent call last)",
            "Cell \u001b[1;32mIn[1], line 1\u001b[0m\n\u001b[1;32m----> 1\u001b[0m f, ax \u001b[39m=\u001b[39m plt\u001b[39m.\u001b[39msubplots(figsize\u001b[39m=\u001b[39m(\u001b[39m15\u001b[39m, \u001b[39m8\u001b[39m))\n\u001b[0;32m      2\u001b[0m sns\u001b[39m.\u001b[39mcountplot(y\u001b[39m=\u001b[39m\u001b[39m\"\u001b[39m\u001b[39mtipo_cancer\u001b[39m\u001b[39m\"\u001b[39m, hue\u001b[39m=\u001b[39m\u001b[39m'\u001b[39m\u001b[39mcancer_dead\u001b[39m\u001b[39m'\u001b[39m, data\u001b[39m=\u001b[39mfiltered_data)\u001b[39m.\u001b[39mset_title(\u001b[39m'\u001b[39m\u001b[39mMortes por tipo de cancer\u001b[39m\u001b[39m'\u001b[39m);\n",
            "\u001b[1;31mNameError\u001b[0m: name 'plt' is not defined"
          ]
        }
      ],
      "source": [
        "#Grafico mortes por tipo de cancer\n",
        "f, ax = plt.subplots(figsize=(15, 8))\n",
        "sns.countplot(y=\"tipo_cancer\", hue='cancer_dead', data=filtered_data).set_title('Mortes por tipo de cancer');"
      ]
    },
    {
      "cell_type": "code",
      "execution_count": null,
      "metadata": {
        "id": "IdmddHdk9ATT"
      },
      "outputs": [],
      "source": [
        "#Grafico mortes por faixa etaria\n",
        "f, ax = plt.subplots(figsize=(15, 8))\n",
        "sns.countplot(y=\"Faixa_etaria\", hue='cancer_dead', data=df_parquet).set_title('Mortes por faixa etaria');"
      ]
    },
    {
      "cell_type": "code",
      "execution_count": 25,
      "metadata": {
        "id": "xe7O_ejP9k_N"
      },
      "outputs": [],
      "source": [
        "#filtrando por faixa etaria\n",
        "df_filtered = df_parquet[df_parquet['Faixa_etaria'] == '25-34']\n",
        "\n",
        "# Agrupar os dados por tipo de câncer e contar o número de mortes\n",
        "cancer_count = df_filtered.groupby('tipo_cancer').size().reset_index(name='count')\n",
        "\n",
        "# Ordenar os dados e selecionar os 20 cânceres que mais matam\n",
        "top_20_cancers = cancer_count.sort_values('count', ascending=False).head(20)"
      ]
    },
    {
      "cell_type": "code",
      "execution_count": null,
      "metadata": {
        "id": "gbi4_JsJ9oQf"
      },
      "outputs": [],
      "source": [
        "\n",
        "#Top 20 cânceres que mais matam na faixa etária de 25-34 anos\n",
        "f, ax = plt.subplots(figsize=(15, 8))\n",
        "sns.barplot(x='count', y='tipo_cancer', data=top_20_cancers, palette='muted', ax=ax)\n",
        "ax.set_title('Top 20 cânceres que mais matam na faixa etária de 25-34 anos')\n",
        "ax.set_xlabel('Número de mortes')\n",
        "ax.set_ylabel('Tipo de câncer')\n",
        "plt.show()"
      ]
    },
    {
      "cell_type": "code",
      "execution_count": 27,
      "metadata": {
        "id": "tnpUi-oS9wl6"
      },
      "outputs": [],
      "source": [
        "#filtrando por faixa etaria\n",
        "df_filtered2 = df_parquet[df_parquet['Faixa_etaria'] == '35-44']\n",
        "\n",
        "# Agrupar os dados por tipo de câncer e contar o número de mortes\n",
        "cancer_count = df_filtered2.groupby('tipo_cancer').size().reset_index(name='count')\n",
        "\n",
        "# Ordenar os dados e selecionar os 20 cânceres que mais matam\n",
        "top_20_cancers = cancer_count.sort_values('count', ascending=False).head(20)"
      ]
    },
    {
      "cell_type": "code",
      "execution_count": null,
      "metadata": {
        "id": "5YimNccr9xzo"
      },
      "outputs": [],
      "source": [
        "#Grafico Top 20 cânceres que mais matam na faixa etária de 35-44 anos\n",
        "f, ax = plt.subplots(figsize=(15, 8))\n",
        "sns.barplot(x='count', y='tipo_cancer', data=top_20_cancers, palette='muted', ax=ax)\n",
        "ax.set_title('Top 20 cânceres que mais matam na faixa etária de 35-44 anos')\n",
        "ax.set_xlabel('Número de mortes')\n",
        "ax.set_ylabel('Tipo de câncer')\n",
        "plt.show()"
      ]
    },
    {
      "cell_type": "code",
      "execution_count": 29,
      "metadata": {
        "id": "oe9O8zBF90Qw"
      },
      "outputs": [],
      "source": [
        "#filtrando por faixa etaria\n",
        "df_filtered3 = df_parquet[df_parquet['Faixa_etaria'] == '45-54']\n",
        "\n",
        "# Agrupar os dados por tipo de câncer e contar o número de mortes\n",
        "cancer_count = df_filtered3.groupby('tipo_cancer').size().reset_index(name='count')\n",
        "\n",
        "# Ordenar os dados e selecionar os 20 cânceres que mais matam\n",
        "top_20_cancers = cancer_count.sort_values('count', ascending=False).head(20)"
      ]
    },
    {
      "cell_type": "code",
      "execution_count": null,
      "metadata": {
        "id": "4xyXcUGh90-d"
      },
      "outputs": [],
      "source": [
        "#Grafico Top 20 cânceres que mais matam na faixa etária de 45-54 anos\n",
        "f, ax = plt.subplots(figsize=(15, 8))\n",
        "sns.barplot(x='count', y='tipo_cancer', data=top_20_cancers, palette='muted', ax=ax)\n",
        "ax.set_title('Top 20 cânceres que mais matam na faixa etária de 45-54 anos')\n",
        "ax.set_xlabel('Número de mortes')\n",
        "ax.set_ylabel('Tipo de câncer')\n",
        "plt.show()"
      ]
    },
    {
      "cell_type": "code",
      "execution_count": 31,
      "metadata": {
        "id": "UUkeN-6V94-c"
      },
      "outputs": [],
      "source": [
        "#filtrando por faixa etaria\n",
        "df_filtered4 = df_parquet[df_parquet['Faixa_etaria'] == '55-64']\n",
        "\n",
        "# Agrupar os dados por tipo de câncer e contar o número de mortes\n",
        "cancer_count = df_filtered4.groupby('tipo_cancer').size().reset_index(name='count')\n",
        "\n",
        "# Ordenar os dados e selecionar os 20 cânceres que mais matam\n",
        "top_20_cancers = cancer_count.sort_values('count', ascending=False).head(20)"
      ]
    },
    {
      "cell_type": "code",
      "execution_count": null,
      "metadata": {
        "id": "sK8GqyBB96Ts"
      },
      "outputs": [],
      "source": [
        "#Grafico Top 20 cânceres que mais matam na faixa etária de 55-64 anos\n",
        "f, ax = plt.subplots(figsize=(15, 8))\n",
        "sns.barplot(x='count', y='tipo_cancer', data=top_20_cancers, palette='muted', ax=ax)\n",
        "ax.set_title('Top 20 cânceres que mais matam na faixa etária de 55-64 anos')\n",
        "ax.set_xlabel('Número de mortes')\n",
        "ax.set_ylabel('Tipo de câncer')\n",
        "plt.show()"
      ]
    },
    {
      "cell_type": "code",
      "execution_count": 33,
      "metadata": {
        "id": "ZmVix_C8-LbD"
      },
      "outputs": [],
      "source": [
        "#filtrando por faixa etaria\n",
        "df_filtered5 = df_parquet[df_parquet['Faixa_etaria'] == '65-74']\n",
        "\n",
        "# Agrupar os dados por tipo de câncer e contar o número de mortes\n",
        "cancer_count = df_filtered5.groupby('tipo_cancer').size().reset_index(name='count')\n",
        "\n",
        "# Ordenar os dados e selecionar os 20 cânceres que mais matam\n",
        "top_20_cancers = cancer_count.sort_values('count', ascending=False).head(20)"
      ]
    },
    {
      "cell_type": "code",
      "execution_count": null,
      "metadata": {
        "id": "wfqk9EzQ-Mps"
      },
      "outputs": [],
      "source": [
        "#Grafico Top 20 cânceres que mais matam na faixa etária de 45-54 anos\n",
        "f, ax = plt.subplots(figsize=(15, 8))\n",
        "sns.barplot(x='count', y='tipo_cancer', data=top_20_cancers, palette='muted', ax=ax)\n",
        "ax.set_title('Top 20 cânceres que mais matam na faixa etária de 45-54 anos')\n",
        "ax.set_xlabel('Número de mortes')\n",
        "ax.set_ylabel('Tipo de câncer')\n",
        "plt.show()"
      ]
    },
    {
      "cell_type": "code",
      "execution_count": 42,
      "metadata": {
        "id": "dh_DVWQr-QCq"
      },
      "outputs": [],
      "source": [
        "#filtrando por estado que mais ocorrem mortes por cancer\n",
        "df_filtered2 = df_parquet[df_parquet['cancer_dead'] == 1]\n",
        "state_death_count = df_filtered2.groupby('estado').size().reset_index(name='count')"
      ]
    },
    {
      "cell_type": "code",
      "execution_count": null,
      "metadata": {
        "id": "tWuTvr9Z-Q5v"
      },
      "outputs": [],
      "source": [
        "#Grafico mortes por estado\n",
        "f, ax = plt.subplots(figsize=(15, 8))\n",
        "sns.barplot(x='count', y='estado', data=state_death_count, palette='muted', ax=ax)\n",
        "ax.set_title('Mortes por câncer por estado')\n",
        "ax.set_xlabel('Número de mortes')\n",
        "ax.set_ylabel('Estado')\n",
        "plt.show()"
      ]
    },
    {
      "cell_type": "code",
      "execution_count": 45,
      "metadata": {
        "id": "V_82jICD9ciU"
      },
      "outputs": [],
      "source": [
        "#filtrando por cidades que mais ocorrem mortes por cancer\n",
        "df_filtered3 = df_parquet[df_parquet['cancer_dead'] == 1]\n",
        "city_death_count = df_filtered3.groupby('cidade').size().reset_index(name='count')\n",
        "city_death_count = city_death_count.sort_values('count', ascending=False).head(10)"
      ]
    },
    {
      "cell_type": "code",
      "execution_count": 46,
      "metadata": {
        "colab": {
          "base_uri": "https://localhost:8080/",
          "height": 719
        },
        "id": "GTdcIpM190Mw",
        "outputId": "725e0f0a-2dc3-4aa6-b33e-09c7cc99ca8a"
      },
      "outputs": [
        {
          "data": {
            "image/png": "[encoded data removed]",
            "text/plain": [
              "<Figure size 1500x800 with 1 Axes>"
            ]
          },
          "metadata": {},
          "output_type": "display_data"
        }
      ],
      "source": [
        "#Grafico mortes por cidade\n",
        "f, ax = plt.subplots(figsize=(15, 8))\n",
        "sns.barplot(x='count', y='cidade', data=city_death_count, palette='muted', ax=ax)\n",
        "ax.set_title('Mortes por câncer por cidade')\n",
        "ax.set_xlabel('Número de mortes')\n",
        "ax.set_ylabel('Estado')\n",
        "plt.show()"
      ]
    },
    {
      "cell_type": "code",
      "execution_count": 47,
      "metadata": {
        "colab": {
          "base_uri": "https://localhost:8080/",
          "height": 719
        },
        "id": "F-KKgz64_dy3",
        "outputId": "0c874544-cd04-4e07-dcf1-a0dd2131edb6"
      },
      "outputs": [
        {
          "data": {
            "image/png": "[encoded data removed]",
            "text/plain": [
              "<Figure size 1500x800 with 1 Axes>"
            ]
          },
          "metadata": {},
          "output_type": "display_data"
        }
      ],
      "source": [
        "# Contando o total de diagnósticos por cidade\n",
        "total_diagnosis = df_parquet.groupby('cidade').size().reset_index(name='diagnosis_count')\n",
        "\n",
        "# Filtrando apenas as mortes por câncer\n",
        "df_filtered4 = df_parquet[df_parquet['cancer_dead'] == 1]\n",
        "\n",
        "# Contando as mortes por cidade\n",
        "city_death_diag = df_filtered4.groupby('cidade').size().reset_index(name='death_count')\n",
        "\n",
        "# Unindo os dataframes\n",
        "merged_data = pd.merge(total_diagnosis, city_death_diag, on='cidade')\n",
        "\n",
        "# Ordenando as cidades por número de mortes e pegando as top 10\n",
        "merged_data = merged_data.sort_values('death_count', ascending=False).head(10)\n",
        "\n",
        "# Ajustando os dados para plotagem\n",
        "melted_data = merged_data.melt(id_vars='cidade', value_vars=['diagnosis_count', 'death_count'])\n",
        "\n",
        "# Plotando o gráfico\n",
        "f, ax = plt.subplots(figsize=(15, 8))\n",
        "sns.barplot(x='value', y='cidade', hue='variable', data=melted_data, palette='muted', ax=ax)\n",
        "ax.set_title('Diagnósticos e Mortes por câncer por cidades')\n",
        "ax.set_xlabel('Número')\n",
        "ax.set_ylabel('Cidades')\n",
        "plt.show()\n"
      ]
    }
  ],
  "metadata": {
    "colab": {
      "provenance": []
    },
    "kernelspec": {
      "display_name": "Python 3",
      "name": "python3"
    },
    "language_info": {
      "codemirror_mode": {
        "name": "ipython",
        "version": 3
      },
      "file_extension": ".py",
      "mimetype": "text/x-python",
      "name": "python",
      "nbconvert_exporter": "python",
      "pygments_lexer": "ipython3",
      "version": "3.11.2"
    }
  },
  "nbformat": 4,
  "nbformat_minor": 0
}
